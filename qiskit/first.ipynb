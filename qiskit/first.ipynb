{
 "cells": [
  {
   "cell_type": "code",
   "execution_count": 1,
   "metadata": {},
   "outputs": [
    {
     "data": {
      "text/plain": [
       "<qiskit.circuit.instructionset.InstructionSet at 0x12f394490>"
      ]
     },
     "execution_count": 1,
     "metadata": {},
     "output_type": "execute_result"
    }
   ],
   "source": [
    "from qiskit import QuantumRegister, ClassicalRegister, QuantumCircuit\n",
    "from numpy import pi\n",
    "from qiskit.quantum_info.operators import Operator, Pauli\n",
    "\n",
    "qreg_q = QuantumRegister(1, 'q')\n",
    "creg_c = ClassicalRegister(1, 'c')\n",
    "circuit = QuantumCircuit(qreg_q, creg_c)\n",
    "\n",
    "circuit.h(qreg_q[0])\n",
    "circuit.rx(pi / 2 + 0.1, qreg_q[0])\n",
    "circuit.measure(qreg_q[0], creg_c[0])"
   ]
  },
  {
   "cell_type": "code",
   "execution_count": 2,
   "metadata": {},
   "outputs": [
    {
     "data": {
      "text/html": [
       "<pre style=\"word-wrap: normal;white-space: pre;background: #fff0;line-height: 1.1;font-family: &quot;Courier New&quot;,Courier,monospace\">     ┌───┐┌────────────┐┌─┐\n",
       "  q: ┤ H ├┤ Rx(1.6708) ├┤M├\n",
       "     └───┘└────────────┘└╥┘\n",
       "c: 1/════════════════════╩═\n",
       "                         0 </pre>"
      ],
      "text/plain": [
       "     ┌───┐┌────────────┐┌─┐\n",
       "  q: ┤ H ├┤ Rx(1.6708) ├┤M├\n",
       "     └───┘└────────────┘└╥┘\n",
       "c: 1/════════════════════╩═\n",
       "                         0 "
      ]
     },
     "execution_count": 2,
     "metadata": {},
     "output_type": "execute_result"
    }
   ],
   "source": [
    "circuit.draw()"
   ]
  },
  {
   "cell_type": "code",
   "execution_count": 3,
   "metadata": {},
   "outputs": [],
   "source": [
    "m = np.array([[1, 1j], [1j, 1]]) / np.sqrt(2)\n",
    "C = Operator(m)"
   ]
  },
  {
   "cell_type": "code",
   "execution_count": 4,
   "metadata": {},
   "outputs": [
    {
     "data": {
      "text/plain": [
       "<qiskit.circuit.instructionset.InstructionSet at 0x12ff5ab60>"
      ]
     },
     "execution_count": 4,
     "metadata": {},
     "output_type": "execute_result"
    }
   ],
   "source": [
    "circuit.append(C, [0])"
   ]
  },
  {
   "cell_type": "code",
   "execution_count": 5,
   "metadata": {},
   "outputs": [
    {
     "data": {
      "text/html": [
       "<pre style=\"word-wrap: normal;white-space: pre;background: #fff0;line-height: 1.1;font-family: &quot;Courier New&quot;,Courier,monospace\">     ┌───┐┌────────────┐┌─┐┌─────────┐\n",
       "  q: ┤ H ├┤ Rx(1.6708) ├┤M├┤ Unitary ├\n",
       "     └───┘└────────────┘└╥┘└─────────┘\n",
       "c: 1/════════════════════╩════════════\n",
       "                         0            </pre>"
      ],
      "text/plain": [
       "     ┌───┐┌────────────┐┌─┐┌─────────┐\n",
       "  q: ┤ H ├┤ Rx(1.6708) ├┤M├┤ Unitary ├\n",
       "     └───┘└────────────┘└╥┘└─────────┘\n",
       "c: 1/════════════════════╩════════════\n",
       "                         0            "
      ]
     },
     "execution_count": 5,
     "metadata": {},
     "output_type": "execute_result"
    }
   ],
   "source": [
    "circuit.draw()"
   ]
  },
  {
   "cell_type": "code",
   "execution_count": 9,
   "metadata": {},
   "outputs": [],
   "source": [
    "res = circuit.measure(0, 0)"
   ]
  },
  {
   "cell_type": "code",
   "execution_count": 11,
   "metadata": {},
   "outputs": [
    {
     "data": {
      "text/html": [
       "<pre style=\"word-wrap: normal;white-space: pre;background: #fff0;line-height: 1.1;font-family: &quot;Courier New&quot;,Courier,monospace\">     ┌───┐┌────────────┐┌─┐┌─────────┐┌─┐┌─┐\n",
       "  q: ┤ H ├┤ Rx(1.6708) ├┤M├┤ Unitary ├┤M├┤M├\n",
       "     └───┘└────────────┘└╥┘└─────────┘└╥┘└╥┘\n",
       "c: 1/════════════════════╩═════════════╩══╩═\n",
       "                         0             0  0 </pre>"
      ],
      "text/plain": [
       "     ┌───┐┌────────────┐┌─┐┌─────────┐┌─┐┌─┐\n",
       "  q: ┤ H ├┤ Rx(1.6708) ├┤M├┤ Unitary ├┤M├┤M├\n",
       "     └───┘└────────────┘└╥┘└─────────┘└╥┘└╥┘\n",
       "c: 1/════════════════════╩═════════════╩══╩═\n",
       "                         0             0  0 "
      ]
     },
     "execution_count": 11,
     "metadata": {},
     "output_type": "execute_result"
    }
   ],
   "source": [
    "circuit.draw()"
   ]
  },
  {
   "cell_type": "code",
   "execution_count": 15,
   "metadata": {},
   "outputs": [
    {
     "name": "stdout",
     "output_type": "stream",
     "text": [
      "\u001b[0;31mSignature:\u001b[0m\n",
      "\u001b[0mcircuit\u001b[0m\u001b[0;34m.\u001b[0m\u001b[0mdecompose\u001b[0m\u001b[0;34m(\u001b[0m\u001b[0;34m\u001b[0m\n",
      "\u001b[0;34m\u001b[0m    \u001b[0mgates_to_decompose\u001b[0m\u001b[0;34m:\u001b[0m \u001b[0;34m'Optional[Union[Type[Gate], Sequence[Type[Gate]], Sequence[str], str]]'\u001b[0m \u001b[0;34m=\u001b[0m \u001b[0;32mNone\u001b[0m\u001b[0;34m,\u001b[0m\u001b[0;34m\u001b[0m\n",
      "\u001b[0;34m\u001b[0m    \u001b[0mreps\u001b[0m\u001b[0;34m:\u001b[0m \u001b[0;34m'int'\u001b[0m \u001b[0;34m=\u001b[0m \u001b[0;36m1\u001b[0m\u001b[0;34m,\u001b[0m\u001b[0;34m\u001b[0m\n",
      "\u001b[0;34m\u001b[0m\u001b[0;34m)\u001b[0m \u001b[0;34m->\u001b[0m \u001b[0;34m\"'QuantumCircuit'\"\u001b[0m\u001b[0;34m\u001b[0m\u001b[0;34m\u001b[0m\u001b[0m\n",
      "\u001b[0;31mDocstring:\u001b[0m\n",
      "Call a decomposition pass on this circuit,\n",
      "to decompose one level (shallow decompose).\n",
      "\n",
      "Args:\n",
      "    gates_to_decompose (str or list(str)): optional subset of gates to decompose.\n",
      "        Defaults to all gates in circuit.\n",
      "    reps (int): Optional number of times the circuit should be decomposed.\n",
      "        For instance, ``reps=2`` equals calling ``circuit.decompose().decompose()``.\n",
      "        can decompose specific gates specific time\n",
      "\n",
      "Returns:\n",
      "    QuantumCircuit: a circuit one level decomposed\n",
      "\u001b[0;31mFile:\u001b[0m      ~/miniforge3/envs/qiskit/lib/python3.11/site-packages/qiskit/circuit/quantumcircuit.py\n",
      "\u001b[0;31mType:\u001b[0m      method"
     ]
    }
   ],
   "source": [
    "circuit.decompose?"
   ]
  },
  {
   "cell_type": "code",
   "execution_count": null,
   "metadata": {},
   "outputs": [],
   "source": []
  }
 ],
 "metadata": {
  "kernelspec": {
   "display_name": "qiskit",
   "language": "python",
   "name": "python3"
  },
  "language_info": {
   "codemirror_mode": {
    "name": "ipython",
    "version": 3
   },
   "file_extension": ".py",
   "mimetype": "text/x-python",
   "name": "python",
   "nbconvert_exporter": "python",
   "pygments_lexer": "ipython3",
   "version": "3.11.0"
  },
  "orig_nbformat": 4
 },
 "nbformat": 4,
 "nbformat_minor": 2
}
