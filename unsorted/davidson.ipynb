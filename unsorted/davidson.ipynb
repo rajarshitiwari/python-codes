{
 "cells": [
  {
   "cell_type": "code",
   "execution_count": 16,
   "metadata": {},
   "outputs": [
    {
     "name": "stdout",
     "output_type": "stream",
     "text": [
      "m=20, (2400, 20)\n",
      "m=40, (2400, 40)\n",
      "m=60, (2400, 60)\n",
      "m=80, (2400, 80)\n",
      "m=100, (2400, 100)\n",
      "m=120, (2400, 120)\n",
      "m=140, (2400, 140)\n",
      "m=160, (2400, 160)\n",
      "m=180, (2400, 180)\n",
      "m=200, (2400, 200)\n",
      "m=220, (2400, 220)\n",
      "m=240, (2400, 240)\n",
      "m=260, (2400, 260)\n",
      "m=280, (2400, 280)\n",
      "m=300, (2400, 300)\n",
      "m=320, (2400, 320)\n",
      "m=340, (2400, 340)\n",
      "m=360, (2400, 360)\n",
      "m=380, (2400, 380)\n",
      "m=400, (2400, 400)\n",
      "m=420, (2400, 420)\n",
      "m=440, (2400, 440)\n",
      "m=460, (2400, 460)\n",
      "m=480, (2400, 480)\n",
      "m=500, (2400, 500)\n",
      "m=520, (2400, 520)\n",
      "m=540, (2400, 540)\n",
      "m=560, (2400, 560)\n",
      "m=580, (2400, 580)\n",
      "m=600, (2400, 600)\n",
      "m=620, (2400, 620)\n",
      "m=640, (2400, 640)\n",
      "m=660, (2400, 660)\n",
      "m=680, (2400, 680)\n",
      "m=700, (2400, 700)\n",
      "davidson =  [ 1.00008341  2.00013665  2.99990594  4.00002598  4.99996267  6.00004815\n",
      "  6.99993734  7.99999875  8.99990796  9.99999318 10.99989641 12.00000977\n",
      " 13.00019225 14.00006877 14.99996552 15.99998305 17.00001451 17.99995746\n",
      " 18.99984918 19.99990582] ; 19.315714120864868 seconds\n",
      "numpy =  [ 1.00008341  2.00013665  2.99990594  4.00002598  4.99996267  6.00004815\n",
      "  6.99993734  7.99999875  8.99990796  9.99999318 10.99989641 12.00000977\n",
      " 13.00019225 14.00006877 14.99996552 15.99998305 17.00001451 17.99995746\n",
      " 18.99984918 19.99990582] ; 0.6706619262695312 seconds\n",
      "1.0978951081597188e-10\n"
     ]
    }
   ],
   "source": [
    "#!/bin/python\n",
    "#from __future__ import division\n",
    "#from __future__ import print_function\n",
    "import math\n",
    "import numpy as np\n",
    "import time\n",
    "\n",
    "''' Block Davidson, Joshua Goings (2013)\n",
    "\n",
    "    Block Davidson method for finding the first few\n",
    "\tlowest eigenvalues of a large, diagonally dominant,\n",
    "    sparse Hermitian matrix (e.g. Hamiltonian)\n",
    "'''\n",
    "\n",
    "n = 2400\t\t\t\t# Dimension of matrix\n",
    "tol = 1e-10\t\t\t\t# Convergence tolerance\n",
    "mmax = n//2\t\t\t\t# Maximum number of iterations\t\n",
    "\n",
    "''' Create sparse, diagonally dominant matrix A with \n",
    "\tdiagonal containing 1,2,3,...n. The eigenvalues\n",
    "    should be very close to these values. You can \n",
    "    change the sparsity. A smaller number for sparsity\n",
    "    increases the diagonal dominance. Larger values\n",
    "    (e.g. sparsity = 1) create a dense matrix\n",
    "'''\n",
    "\n",
    "sparsity = 0.0001\n",
    "A = np.zeros((n,n))\n",
    "for i in range(0,n):\n",
    "    A[i,i] = i + 1 \n",
    "A = A + sparsity*np.random.randn(n,n) \n",
    "A = (A.T + A)/2 \n",
    "\n",
    "\n",
    "k = 20\t\t\t\t\t# number of initial guess vectors \n",
    "eig = 20       \t\t\t# number of eignvalues to solve \n",
    "t = np.eye(n,k)\t\t\t# set of k unit vectors as guess\n",
    "V = np.zeros((n,n))\t\t# array of zeros to hold guess vec\n",
    "I = np.eye(n)\t\t\t# identity matrix same dimen as A\n",
    "\n",
    "# Begin block Davidson routine\n",
    "\n",
    "start_davidson = time.time()\n",
    "\n",
    "for m in range(k,mmax,k):\n",
    "    print(f\"m={m}, {V[:, :m].shape}\")\n",
    "    if m <= k:\n",
    "        for j in range(0,k):\n",
    "            V[:,j] = t[:,j]/np.linalg.norm(t[:,j])\n",
    "        theta_old = 1 \n",
    "    elif m > k:\n",
    "        theta_old = theta[:eig]\n",
    "    V[:,:m],R = np.linalg.qr(V[:,:m])\n",
    "    T = np.dot(V[:,:m].T,np.dot(A,V[:,:m]))\n",
    "    THETA,S = np.linalg.eig(T)\n",
    "    idx = THETA.argsort()\n",
    "    theta = THETA[idx]\n",
    "    s = S[:,idx]\n",
    "    for j in range(0,k):\n",
    "        w = np.dot((A - theta[j]*I),np.dot(V[:,:m],s[:,j])) \n",
    "        q = w/(theta[j]-A[j,j])\n",
    "        V[:,(m+j)] = q\n",
    "    norm = np.linalg.norm(theta[:eig] - theta_old)\n",
    "    if norm < tol:\n",
    "        break\n",
    "\n",
    "end_davidson = time.time()\n",
    "\n",
    "# End of block Davidson. Print results.\n",
    "\n",
    "print(\"davidson = \", theta[:eig],\";\",\n",
    "    end_davidson - start_davidson, \"seconds\")\n",
    "\n",
    "# Begin Numpy diagonalization of A\n",
    "\n",
    "start_numpy = time.time()\n",
    "\n",
    "E,Vec = np.linalg.eigh(A)\n",
    "E = np.sort(E)\n",
    "\n",
    "end_numpy = time.time()\n",
    "\n",
    "# End of Numpy diagonalization. Print results.\n",
    "\n",
    "print(\"numpy = \", E[:eig],\";\",\n",
    "     end_numpy - start_numpy, \"seconds\") \n",
    "\n",
    "print(np.abs(theta[:eig] - E[:eig]).max())"
   ]
  },
  {
   "cell_type": "code",
   "execution_count": 11,
   "metadata": {},
   "outputs": [
    {
     "data": {
      "text/plain": [
       "1200"
      ]
     },
     "execution_count": 11,
     "metadata": {},
     "output_type": "execute_result"
    }
   ],
   "source": [
    "mmax"
   ]
  },
  {
   "cell_type": "code",
   "execution_count": 6,
   "metadata": {},
   "outputs": [],
   "source": [
    "E1 = E.copy()\n",
    "theta1 = theta.copy()"
   ]
  },
  {
   "cell_type": "code",
   "execution_count": 17,
   "metadata": {},
   "outputs": [
    {
     "data": {
      "text/plain": [
       "[<matplotlib.lines.Line2D at 0x14ce98b5d8e0>]"
      ]
     },
     "execution_count": 17,
     "metadata": {},
     "output_type": "execute_result"
    },
    {
     "data": {
      "image/png": "[encoded data removed]",
      "text/plain": [
       "<Figure size 640x480 with 1 Axes>"
      ]
     },
     "metadata": {},
     "output_type": "display_data"
    }
   ],
   "source": [
    "plt.plot(E[:eig]-theta[:eig])"
   ]
  },
  {
   "cell_type": "code",
   "execution_count": null,
   "metadata": {},
   "outputs": [],
   "source": []
  }
 ],
 "metadata": {
  "kernelspec": {
   "display_name": "Python 3.9.13 ('base')",
   "language": "python",
   "name": "python3"
  },
  "language_info": {
   "codemirror_mode": {
    "name": "ipython",
    "version": 3
   },
   "file_extension": ".py",
   "mimetype": "text/x-python",
   "name": "python",
   "nbconvert_exporter": "python",
   "pygments_lexer": "ipython3",
   "version": "3.9.13"
  },
  "orig_nbformat": 4,
  "vscode": {
   "interpreter": {
    "hash": "a6593991dda8697d734602f693f649d09256469db64b43c0a9c1bd2f44328a8a"
   }
  }
 },
 "nbformat": 4,
 "nbformat_minor": 2
}
