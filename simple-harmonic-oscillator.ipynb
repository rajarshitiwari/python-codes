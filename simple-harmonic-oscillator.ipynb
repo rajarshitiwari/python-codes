{
 "cells": [
  {
   "cell_type": "code",
   "execution_count": 1,
   "metadata": {},
   "outputs": [],
   "source": [
    "import numpy as np\n",
    "\n",
    "# A simple example of using python class to do operator algebra of Simple Harmonic Oscillator\n",
    "\n",
    "class state:\n",
    "    \"\"\"\n",
    "    A simple class to represent state of harmonic oscillator.\n",
    "    \"\"\"\n",
    "    def __init__(self, n=0, c=1) -> None:\n",
    "        self.n = n\n",
    "        self.c = c\n",
    "    def __repr__(self) -> str:\n",
    "        c, n = self.c, self.n\n",
    "        ss = f\"{c}|{n}>\" if c != 1 else f\"|{self.n}>\"\n",
    "        return ss\n",
    "    def energy(self):\n",
    "        return self.n\n",
    "\n",
    "def create(st):\n",
    "    st.n += 1\n",
    "    st.c *= np.sqrt(st.n)\n",
    "\n",
    "def annihilate(st):\n",
    "    if st.n == 0:\n",
    "        st.c = 0\n",
    "    else:\n",
    "        st.c *= np.sqrt(st.n)\n",
    "        st.n -= 1\n"
   ]
  },
  {
   "cell_type": "code",
   "execution_count": 2,
   "metadata": {},
   "outputs": [
    {
     "name": "stdout",
     "output_type": "stream",
     "text": [
      "|1>\n",
      "78911.47445080469|13>\n",
      "6227020800.000002|1>\n"
     ]
    }
   ],
   "source": [
    "s = state(n=1, c=1)\n",
    "print(s)\n",
    "for i in range(12):\n",
    "    create(s)\n",
    "print(s)\n",
    "for i in range(12):\n",
    "    annihilate(s)\n",
    "print(s)"
   ]
  },
  {
   "cell_type": "code",
   "execution_count": 3,
   "metadata": {},
   "outputs": [
    {
     "name": "stdout",
     "output_type": "stream",
     "text": [
      "|1>\n",
      "|1>\n"
     ]
    }
   ],
   "source": [
    "s = state(n=1, c=1)\n",
    "print(s)\n",
    "for i in range(12):\n",
    "    annihilate(s)\n",
    "    create(s)\n",
    "print(s)"
   ]
  },
  {
   "cell_type": "code",
   "execution_count": null,
   "metadata": {},
   "outputs": [],
   "source": []
  }
 ],
 "metadata": {
  "kernelspec": {
   "display_name": "Python 3",
   "language": "python",
   "name": "python3"
  },
  "language_info": {
   "codemirror_mode": {
    "name": "ipython",
    "version": 3
   },
   "file_extension": ".py",
   "mimetype": "text/x-python",
   "name": "python",
   "nbconvert_exporter": "python",
   "pygments_lexer": "ipython3",
   "version": "3.11.5"
  },
  "orig_nbformat": 4
 },
 "nbformat": 4,
 "nbformat_minor": 2
}
