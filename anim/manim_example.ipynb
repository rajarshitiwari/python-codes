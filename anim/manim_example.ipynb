{
 "cells": [
  {
   "cell_type": "code",
   "execution_count": 1,
   "metadata": {},
   "outputs": [
    {
     "data": {
      "text/html": [
       "<pre style=\"white-space:pre;overflow-x:auto;line-height:normal;font-family:Menlo,'DejaVu Sans Mono',consolas,'Courier New',monospace\">Manim Community <span style=\"color: #008000; text-decoration-color: #008000\">v0.17.2</span>\n",
       "\n",
       "</pre>\n"
      ],
      "text/plain": [
       "Manim Community \u001b[32mv0.\u001b[0m\u001b[32m17.2\u001b[0m\n",
       "\n"
      ]
     },
     "metadata": {},
     "output_type": "display_data"
    }
   ],
   "source": [
    "from manim import *"
   ]
  },
  {
   "cell_type": "code",
   "execution_count": 2,
   "metadata": {},
   "outputs": [
    {
     "name": "stderr",
     "output_type": "stream",
     "text": [
      "                                                                     \r"
     ]
    },
    {
     "data": {
      "text/html": [
       "<video src=\"media/jupyter/SquareToCircle@2023-03-01@20-16-28.mp4\" controls autoplay loop style=\"max-width: 60%;\"  >\n",
       "      Your browser does not support the <code>video</code> element.\n",
       "    </video>"
      ],
      "text/plain": [
       "<IPython.core.display.Video object>"
      ]
     },
     "metadata": {},
     "output_type": "display_data"
    }
   ],
   "source": [
    "%%manim -qm -v WARNING SquareToCircle\n",
    "\n",
    "class SquareToCircle(Scene):\n",
    "   def construct(self):\n",
    "      square = Square(side_length=3)\n",
    "      circle = Circle(radius=3)\n",
    "      circle.set_fill(PINK, opacity=0.5)\n",
    "      self.play(Create(square))\n",
    "      self.play(Transform(square, circle))\n",
    "      self.wait()\n",
    "#\n",
    "config.background_color = WHITE\n",
    "config.frame_height = 9\n",
    "config.frame_width = 16"
   ]
  },
  {
   "cell_type": "code",
   "execution_count": 3,
   "metadata": {},
   "outputs": [
    {
     "data": {
      "text/plain": [
       "16"
      ]
     },
     "execution_count": 3,
     "metadata": {},
     "output_type": "execute_result"
    }
   ],
   "source": [
    "config.frame_width"
   ]
  },
  {
   "cell_type": "code",
   "execution_count": 4,
   "metadata": {},
   "outputs": [
    {
     "data": {
      "text/plain": [
       "'\\nclass ShowScreenResolution(Scene):\\n    def construct(self):\\n        pixel_height = config[\"pixel_height\"]  #  1080 is default\\n        pixel_width = config[\"pixel_width\"]  # 1920 is default\\n        frame_width = config[\"frame_width\"]\\n        frame_height = config[\"frame_height\"]\\n        self.add(Dot())\\n        d1 = Line(frame_width * LEFT / 2, frame_width * RIGHT / 2).to_edge(DOWN)\\n        self.add(d1)\\n        self.add(Text(str(pixel_width)).next_to(d1, UP))\\n        d2 = Line(frame_height * UP / 2, frame_height * DOWN / 2).to_edge(LEFT)\\n        self.add(d2)\\n        self.add(Text(str(pixel_height)).next_to(d2, RIGHT))\\n'"
      ]
     },
     "execution_count": 4,
     "metadata": {},
     "output_type": "execute_result"
    }
   ],
   "source": [
    "# %%manim -qm -v WARNING ShowScreenResolution\n",
    "\"\"\"\n",
    "class ShowScreenResolution(Scene):\n",
    "    def construct(self):\n",
    "        pixel_height = config[\"pixel_height\"]  #  1080 is default\n",
    "        pixel_width = config[\"pixel_width\"]  # 1920 is default\n",
    "        frame_width = config[\"frame_width\"]\n",
    "        frame_height = config[\"frame_height\"]\n",
    "        self.add(Dot())\n",
    "        d1 = Line(frame_width * LEFT / 2, frame_width * RIGHT / 2).to_edge(DOWN)\n",
    "        self.add(d1)\n",
    "        self.add(Text(str(pixel_width)).next_to(d1, UP))\n",
    "        d2 = Line(frame_height * UP / 2, frame_height * DOWN / 2).to_edge(LEFT)\n",
    "        self.add(d2)\n",
    "        self.add(Text(str(pixel_height)).next_to(d2, RIGHT))\n",
    "\"\"\""
   ]
  },
  {
   "cell_type": "code",
   "execution_count": 5,
   "metadata": {},
   "outputs": [
    {
     "data": {
      "image/png": "[encoded data removed]",
      "text/plain": [
       "<IPython.core.display.Image object>"
      ]
     },
     "metadata": {},
     "output_type": "display_data"
    }
   ],
   "source": [
    "%%manim -qm -v WARNING ManimCELogo\n",
    "\n",
    "class ManimCELogo(Scene):\n",
    "    def construct(self):\n",
    "        self.camera.background_color = \"#ece6e2\"\n",
    "        logo_green = \"#87c2a5\"\n",
    "        logo_blue = \"#525893\"\n",
    "        logo_red = \"#e07a5f\"\n",
    "        logo_black = \"#343434\"\n",
    "        ds_m = MathTex(r\"\\mathbb{M}\", fill_color=logo_black).scale(7)\n",
    "        ds_m.shift(2.25 * LEFT + 1.5 * UP)\n",
    "        circle = Circle(color=logo_green, fill_opacity=1).shift(LEFT)\n",
    "        square = Square(color=logo_blue, fill_opacity=1).shift(UP)\n",
    "        triangle = Triangle(color=logo_red, fill_opacity=1).shift(RIGHT)\n",
    "        logo = VGroup(triangle, square, circle, ds_m)  # order matters\n",
    "        logo.move_to(ORIGIN)\n",
    "        self.add(logo)\n",
    "\n"
   ]
  },
  {
   "cell_type": "code",
   "execution_count": 7,
   "metadata": {},
   "outputs": [],
   "source": [
    "class MovingFrameBox(Scene):\n",
    "    def construct(self):\n",
    "        text=MathTex(\n",
    "            \"\\\\frac{d}{dx}f(x)g(x)=\",\"f(x)\\\\frac{d}{dx}g(x)\",\"+\",\n",
    "            \"g(x)\\\\frac{d}{dx}f(x)\", fill_color=\"#343434\"\n",
    "        )\n",
    "        self.play(Write(text))\n",
    "        framebox1 = SurroundingRectangle(text[1], buff = .1)\n",
    "        framebox2 = SurroundingRectangle(text[3], buff = .1)\n",
    "        self.play(\n",
    "            Create(framebox1),\n",
    "        )\n",
    "        self.wait()\n",
    "        self.play(\n",
    "            ReplacementTransform(framebox1,framebox2),\n",
    "        )\n",
    "        self.wait()"
   ]
  },
  {
   "cell_type": "code",
   "execution_count": 8,
   "metadata": {},
   "outputs": [
    {
     "name": "stderr",
     "output_type": "stream",
     "text": [
      "                                                                                                                                                    \r"
     ]
    },
    {
     "data": {
      "text/html": [
       "<video src=\"media/jupyter/MovingFrameBox@2023-03-01@20-20-15.mp4\" controls autoplay loop style=\"max-width: 60%;\"  >\n",
       "      Your browser does not support the <code>video</code> element.\n",
       "    </video>"
      ],
      "text/plain": [
       "<IPython.core.display.Video object>"
      ]
     },
     "metadata": {},
     "output_type": "display_data"
    }
   ],
   "source": [
    "%manim -qm -v WARNING MovingFrameBox"
   ]
  },
  {
   "cell_type": "code",
   "execution_count": 9,
   "metadata": {},
   "outputs": [],
   "source": [
    "ss = Scene()\n",
    "\n",
    "text=MathTex(\"\\\\frac{d}{dx}f(x)g(x)=\",\"f(x)\\\\frac{d}{dx}g(x)\", \"+\", \"g(x)\\\\frac{d}{dx}f(x)\", fill_color=\"#343434\")"
   ]
  },
  {
   "cell_type": "code",
   "execution_count": 10,
   "metadata": {},
   "outputs": [
    {
     "name": "stdout",
     "output_type": "stream",
     "text": [
      "\u001b[0;31mSignature:\u001b[0m \u001b[0mss\u001b[0m\u001b[0;34m.\u001b[0m\u001b[0mconstruct\u001b[0m\u001b[0;34m(\u001b[0m\u001b[0;34m)\u001b[0m\u001b[0;34m\u001b[0m\u001b[0;34m\u001b[0m\u001b[0m\n",
      "\u001b[0;31mDocstring:\u001b[0m\n",
      "Add content to the Scene.\n",
      "\n",
      "From within :meth:`Scene.construct`, display mobjects on screen by calling\n",
      ":meth:`Scene.add` and remove them from screen by calling :meth:`Scene.remove`.\n",
      "All mobjects currently on screen are kept in :attr:`Scene.mobjects`.  Play\n",
      "animations by calling :meth:`Scene.play`.\n",
      "\n",
      "Notes\n",
      "-----\n",
      "Initialization code should go in :meth:`Scene.setup`.  Termination code should\n",
      "go in :meth:`Scene.tear_down`.\n",
      "\n",
      "Examples\n",
      "--------\n",
      "A typical manim script includes a class derived from :class:`Scene` with an\n",
      "overridden :meth:`Scene.contruct` method:\n",
      "\n",
      ".. code-block:: python\n",
      "\n",
      "    class MyScene(Scene):\n",
      "        def construct(self):\n",
      "            self.play(Write(Text(\"Hello World!\")))\n",
      "\n",
      "See Also\n",
      "--------\n",
      ":meth:`Scene.setup`\n",
      ":meth:`Scene.render`\n",
      ":meth:`Scene.tear_down`\n",
      "\u001b[0;31mFile:\u001b[0m      ~/miniconda3/envs/anim/lib/python3.10/site-packages/manim/scene/scene.py\n",
      "\u001b[0;31mType:\u001b[0m      method"
     ]
    }
   ],
   "source": [
    "ss.construct?\n"
   ]
  },
  {
   "cell_type": "code",
   "execution_count": null,
   "metadata": {},
   "outputs": [],
   "source": []
  }
 ],
 "metadata": {
  "kernelspec": {
   "display_name": "anim",
   "language": "python",
   "name": "python3"
  },
  "language_info": {
   "codemirror_mode": {
    "name": "ipython",
    "version": 3
   },
   "file_extension": ".py",
   "mimetype": "text/x-python",
   "name": "python",
   "nbconvert_exporter": "python",
   "pygments_lexer": "ipython3",
   "version": "3.10.9"
  },
  "orig_nbformat": 4,
  "vscode": {
   "interpreter": {
    "hash": "273458485c196976d647a45b29d4c39c64c8b79859c85a87bbdc1649fa706b00"
   }
  }
 },
 "nbformat": 4,
 "nbformat_minor": 2
}
