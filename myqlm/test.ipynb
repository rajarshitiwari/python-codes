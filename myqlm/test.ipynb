{
 "cells": [
  {
   "cell_type": "code",
   "execution_count": 1,
   "metadata": {},
   "outputs": [],
   "source": [
    "# myqlm version: 1.9.3\n",
    "from qat.lang import H, CNOT\n"
   ]
  },
  {
   "cell_type": "code",
   "execution_count": 5,
   "metadata": {},
   "outputs": [
    {
     "data": {
      "image/png": "[encoded data removed]",
      "text/plain": [
       "<Figure size 640x480 with 1 Axes>"
      ]
     },
     "metadata": {},
     "output_type": "display_data"
    }
   ],
   "source": [
    "import numpy as np\n",
    "import networkx as nx\n",
    "import matplotlib.pyplot as plt\n",
    "from qat.core import Observable, Term, Variable, Schedule, Batch\n",
    "\n",
    "n_nodes = 6\n",
    "graph = nx.generators.erdos_renyi_graph(n_nodes, 0.5)\n",
    "nx.draw(graph)\n",
    "\n",
    "# Define the Hamiltonians\n",
    "H_target = sum(Observable(n_nodes, pauli_terms=[Term(1, \"Z\", [a])]) * \\\n",
    "               Observable(n_nodes, pauli_terms=[Term(1, \"Z\", [b])]) for a, b in graph.edges())\n",
    "\n",
    "H_0 = - sum(Observable(n_nodes, pauli_terms=[Term(1, \"X\", [a])]) for a in range(n_nodes))\n",
    "# Create the corresponding Schedule\n",
    "t = Variable(\"t\")\n",
    "tmax = 23\n",
    "schedule = Schedule(drive=[(1 - t / tmax, H_0), ( t / tmax, H_target)], tmax=tmax)\n",
    "\n",
    "# %qatdisplay schedule 1 2 3 4 1 2 3 1\n",
    "\n"
   ]
  },
  {
   "cell_type": "code",
   "execution_count": 8,
   "metadata": {},
   "outputs": [
    {
     "ename": "ImportError",
     "evalue": "cannot import name 'AnalogQPU' from 'qat.qpus' (/opt/homebrew/lib/python3.11/site-packages/qat/modules/__init__.so)",
     "output_type": "error",
     "traceback": [
      "\u001b[0;31m---------------------------------------------------------------------------\u001b[0m",
      "\u001b[0;31mImportError\u001b[0m                               Traceback (most recent call last)",
      "\u001b[1;32m/Users/rajarshi/Library/CloudStorage/Dropbox/git_proj/github/python-codes/myqlm/test.ipynb Cell 3\u001b[0m line \u001b[0;36m1\n\u001b[0;32m----> <a href='vscode-notebook-cell:/Users/rajarshi/Library/CloudStorage/Dropbox/git_proj/github/python-codes/myqlm/test.ipynb#X10sZmlsZQ%3D%3D?line=0'>1</a>\u001b[0m \u001b[39mfrom\u001b[39;00m \u001b[39mqat\u001b[39;00m\u001b[39m.\u001b[39;00m\u001b[39mqpus\u001b[39;00m \u001b[39mimport\u001b[39;00m AnalogQPU \u001b[39m# Create a Job\u001b[39;00m\n\u001b[1;32m      <a href='vscode-notebook-cell:/Users/rajarshi/Library/CloudStorage/Dropbox/git_proj/github/python-codes/myqlm/test.ipynb#X10sZmlsZQ%3D%3D?line=1'>2</a>\u001b[0m n_states \u001b[39m=\u001b[39m \u001b[39m2\u001b[39m\u001b[39m*\u001b[39m\u001b[39m*\u001b[39mn_nodes\n\u001b[1;32m      <a href='vscode-notebook-cell:/Users/rajarshi/Library/CloudStorage/Dropbox/git_proj/github/python-codes/myqlm/test.ipynb#X10sZmlsZQ%3D%3D?line=2'>3</a>\u001b[0m psi_0 \u001b[39m=\u001b[39m np\u001b[39m.\u001b[39mones(n_states) \u001b[39m/\u001b[39m np\u001b[39m.\u001b[39msqrt(n_states)\n",
      "\u001b[0;31mImportError\u001b[0m: cannot import name 'AnalogQPU' from 'qat.qpus' (/opt/homebrew/lib/python3.11/site-packages/qat/modules/__init__.so)"
     ]
    }
   ],
   "source": [
    "from qat.qpus import AnalogQPU # Create a Job\n",
    "n_states = 2**n_nodes\n",
    "psi_0 = np.ones(n_states) / np.sqrt(n_states)\n",
    "job = schedule.to_job(observable=H_target, psi_0=psi_0) # Send it for simulation\n",
    "qpu = AnalogQPU()\n",
    "result = qpu.submit(job)\n"
   ]
  },
  {
   "cell_type": "code",
   "execution_count": 9,
   "metadata": {},
   "outputs": [],
   "source": [
    "import qat.qpus"
   ]
  },
  {
   "cell_type": "code",
   "execution_count": 10,
   "metadata": {},
   "outputs": [
    {
     "name": "stdout",
     "output_type": "stream",
     "text": [
      "\u001b[0;31mType:\u001b[0m        str\n",
      "\u001b[0;31mString form:\u001b[0m /opt/homebrew/lib/python3.11/site-packages/qat/__init__.so\n",
      "\u001b[0;31mLength:\u001b[0m      58\n",
      "\u001b[0;31mDocstring:\u001b[0m  \n",
      "str(object='') -> str\n",
      "str(bytes_or_buffer[, encoding[, errors]]) -> str\n",
      "\n",
      "Create a new string object from the given object. If encoding or\n",
      "errors is specified, then the object must expose a data buffer\n",
      "that will be decoded using the given encoding and error handler.\n",
      "Otherwise, returns the result of object.__str__() (if defined)\n",
      "or repr(object).\n",
      "encoding defaults to sys.getdefaultencoding().\n",
      "errors defaults to 'strict'."
     ]
    }
   ],
   "source": [
    "qat.__file__?"
   ]
  },
  {
   "cell_type": "code",
   "execution_count": 2,
   "metadata": {},
   "outputs": [
    {
     "name": "stderr",
     "output_type": "stream",
     "text": [
      "/Users/rajarshi/venvs/myqlm/lib/python3.11/site-packages/tqdm/auto.py:21: TqdmWarning: IProgress not found. Please update jupyter and ipywidgets. See https://ipywidgets.readthedocs.io/en/stable/user_install.html\n",
      "  from .autonotebook import tqdm as notebook_tqdm\n"
     ]
    },
    {
     "name": "stdout",
     "output_type": "stream",
     "text": [
      "State |00> amplitude (0.7071067811865475+0j)\n",
      "State |11> amplitude (0.7071067811865475+0j)\n",
      "H = 0.3 * (X|[0]) +\n",
      "-0.4 * (ZY|[0, 1])\n"
     ]
    }
   ],
   "source": [
    "from qat.lang.AQASM import Program, H, CNOT\n",
    "# Create a Program\n",
    "qprog = Program()\n",
    "# Number of qbits\n",
    "nbqbits = 2\n",
    "# Allocate some qbits\n",
    "qbits = qprog.qalloc(nbqbits)\n",
    "# Apply some quantum Gates\n",
    "H(qbits[0])\n",
    "\n",
    "\n",
    "CNOT(qbits[0], qbits[1])\n",
    "# Export this program into a quantum circuit\n",
    "circuit = qprog.to_circ()\n",
    "\n",
    "# Import a Quantum Processor Unit Factory (the default one)\n",
    "\n",
    "from qat.qpus import get_default_qpu\n",
    "# Create a Quantum Processor Unit\n",
    "qpu = get_default_qpu()\n",
    "\n",
    "# Create a job\n",
    "job = circuit.to_job()\n",
    "\n",
    "# Submit the job to the QPU\n",
    "result = qpu.submit(job)\n",
    "\n",
    "# Iterate over the final state vector to get all final components\n",
    "for sample in result:\n",
    "    print(\"State %s amplitude %s\" % (sample.state, sample.amplitude))\n",
    "\n",
    "from qat.core import Term\n",
    "from qat.fermion.hamiltonians import SpinHamiltonian\n",
    "nqbits = 2\n",
    "H = SpinHamiltonian(nqbits, [Term(0.3, \"X\", [0]), Term(-0.4, \"ZY\", [0, 1])])\n",
    "print(f\"H = {H}\")\n"
   ]
  },
  {
   "cell_type": "code",
   "execution_count": 3,
   "metadata": {},
   "outputs": [
    {
     "name": "stdout",
     "output_type": "stream",
     "text": [
      "State |00> amplitude (0.7071067811865475+0j)\n",
      "State |11> amplitude (0.7071067811865475+0j)\n"
     ]
    }
   ],
   "source": [
    "from qat.lang import qrout, H, CNOT\n",
    "@qrout\n",
    "def bell_pair():\n",
    "    H(0)\n",
    "    CNOT(0, 1)\n",
    "\n",
    "result = bell_pair().run()\n",
    "\n",
    "for sample in result:\n",
    "    print(f\"State {sample.state} amplitude {sample.amplitude}\")"
   ]
  },
  {
   "cell_type": "code",
   "execution_count": 5,
   "metadata": {},
   "outputs": [],
   "source": [
    "import qat.qpus"
   ]
  },
  {
   "cell_type": "code",
   "execution_count": 6,
   "metadata": {},
   "outputs": [
    {
     "name": "stdout",
     "output_type": "stream",
     "text": [
      "\u001b[0;31mType:\u001b[0m            _QLMServiceModule\n",
      "\u001b[0;31mString form:\u001b[0m     <module 'qat.qpus' (['/Users/rajarshi/venvs/myqlm/lib/python3.11/site-packages/qat'])>\n",
      "\u001b[0;31mFile:\u001b[0m            ~/venvs/myqlm/lib/python3.11/site-packages/qat/modules/__init__.so\n",
      "\u001b[0;31mDocstring:\u001b[0m       <no docstring>\n",
      "\u001b[0;31mClass docstring:\u001b[0m Module containins services of the QLM / myQLM"
     ]
    }
   ],
   "source": [
    "qat.qpus?"
   ]
  },
  {
   "cell_type": "code",
   "execution_count": null,
   "metadata": {},
   "outputs": [],
   "source": []
  }
 ],
 "metadata": {
  "kernelspec": {
   "display_name": "Python 3 (ipykernel)",
   "language": "python",
   "name": "python3"
  },
  "language_info": {
   "codemirror_mode": {
    "name": "ipython",
    "version": 3
   },
   "file_extension": ".py",
   "mimetype": "text/x-python",
   "name": "python",
   "nbconvert_exporter": "python",
   "pygments_lexer": "ipython3",
   "version": "3.11.5"
  },
  "orig_nbformat": 4
 },
 "nbformat": 4,
 "nbformat_minor": 2
}
