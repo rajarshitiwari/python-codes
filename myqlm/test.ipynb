{
 "cells": [
  {
   "cell_type": "code",
   "execution_count": 1,
   "metadata": {},
   "outputs": [
    {
     "name": "stdout",
     "output_type": "stream",
     "text": [
      "State |00> amplitude (0.7071067811865475+0j)\n",
      "State |11> amplitude (0.7071067811865475+0j)\n"
     ]
    }
   ],
   "source": [
    "from qat.lang.AQASM import Program, H, CNOT\n",
    "\n",
    "# Create a Program\n",
    "qprog = Program()\n",
    "# Number of qbits\n",
    "nbqbits = 2\n",
    "# Allocate some qbits\n",
    "qbits = qprog.qalloc(nbqbits)\n",
    "\n",
    "# Apply some quantum Gates\n",
    "H(qbits[0])\n",
    "CNOT(qbits[0], qbits[1])\n",
    "\n",
    "# Export this program into a quantum circuit\n",
    "circuit = qprog.to_circ()\n",
    "\n",
    "# Import a Quantum Processor Unit Factory (the default one)\n",
    "from qat.qpus import get_default_qpu\n",
    "\n",
    "# Create a Quantum Processor Unit\n",
    "qpu = get_default_qpu()\n",
    "\n",
    "# Create a job\n",
    "job = circuit.to_job()\n",
    "\n",
    "# Submit the job to the QPU\n",
    "result = qpu.submit(job)\n",
    "\n",
    "# Iterate over the final state vector to get all final components\n",
    "for sample in result:\n",
    "    print(\"State %s amplitude %s\" % (sample.state, sample.amplitude))"
   ]
  },
  {
   "cell_type": "code",
   "execution_count": 3,
   "metadata": {},
   "outputs": [
    {
     "name": "stdout",
     "output_type": "stream",
     "text": [
      "\u001b[0;31mType:\u001b[0m        QRegister\n",
      "\u001b[0;31mString form:\u001b[0m QReg(q[0]..q[1])\n",
      "\u001b[0;31mLength:\u001b[0m      2\n",
      "\u001b[0;31mFile:\u001b[0m        ~/miniconda3/envs/qc/lib/python3.10/site-packages/qat/lang/AQASM/bits.so\n",
      "\u001b[0;31mDocstring:\u001b[0m  \n",
      "Class for registers of qbits. They should only be\n",
      "declared through the qalloc method of the Program class.\n",
      "Qbits inside a register can be accessed\n",
      "similarly to elements of an array (i.e using brackets and slices).\n"
     ]
    }
   ],
   "source": [
    "qbits?"
   ]
  },
  {
   "cell_type": "code",
   "execution_count": null,
   "metadata": {},
   "outputs": [],
   "source": []
  }
 ],
 "metadata": {
  "kernelspec": {
   "display_name": "qc",
   "language": "python",
   "name": "python3"
  },
  "language_info": {
   "codemirror_mode": {
    "name": "ipython",
    "version": 3
   },
   "file_extension": ".py",
   "mimetype": "text/x-python",
   "name": "python",
   "nbconvert_exporter": "python",
   "pygments_lexer": "ipython3",
   "version": "3.10.4"
  },
  "orig_nbformat": 4
 },
 "nbformat": 4,
 "nbformat_minor": 2
}
