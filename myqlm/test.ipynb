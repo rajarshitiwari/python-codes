{
 "cells": [
  {
   "cell_type": "code",
   "execution_count": 1,
   "metadata": {},
   "outputs": [],
   "source": [
    "# myqlm version: 1.9.3\n",
    "from qat.lang import H, CNOT\n"
   ]
  },
  {
   "cell_type": "code",
   "execution_count": 2,
   "metadata": {},
   "outputs": [
    {
     "name": "stderr",
     "output_type": "stream",
     "text": [
      "/Users/rajarshi/venvs/myqlm/lib/python3.11/site-packages/tqdm/auto.py:21: TqdmWarning: IProgress not found. Please update jupyter and ipywidgets. See https://ipywidgets.readthedocs.io/en/stable/user_install.html\n",
      "  from .autonotebook import tqdm as notebook_tqdm\n"
     ]
    },
    {
     "name": "stdout",
     "output_type": "stream",
     "text": [
      "State |00> amplitude (0.7071067811865475+0j)\n",
      "State |11> amplitude (0.7071067811865475+0j)\n",
      "H = 0.3 * (X|[0]) +\n",
      "-0.4 * (ZY|[0, 1])\n"
     ]
    }
   ],
   "source": [
    "from qat.lang.AQASM import Program, H, CNOT\n",
    "# Create a Program\n",
    "qprog = Program()\n",
    "# Number of qbits\n",
    "nbqbits = 2\n",
    "# Allocate some qbits\n",
    "qbits = qprog.qalloc(nbqbits)\n",
    "# Apply some quantum Gates\n",
    "H(qbits[0])\n",
    "\n",
    "\n",
    "CNOT(qbits[0], qbits[1])\n",
    "# Export this program into a quantum circuit\n",
    "circuit = qprog.to_circ()\n",
    "\n",
    "# Import a Quantum Processor Unit Factory (the default one)\n",
    "\n",
    "from qat.qpus import get_default_qpu\n",
    "# Create a Quantum Processor Unit\n",
    "qpu = get_default_qpu()\n",
    "\n",
    "# Create a job\n",
    "job = circuit.to_job()\n",
    "\n",
    "# Submit the job to the QPU\n",
    "result = qpu.submit(job)\n",
    "\n",
    "# Iterate over the final state vector to get all final components\n",
    "for sample in result:\n",
    "    print(\"State %s amplitude %s\" % (sample.state, sample.amplitude))\n",
    "\n",
    "from qat.core import Term\n",
    "from qat.fermion.hamiltonians import SpinHamiltonian\n",
    "nqbits = 2\n",
    "H = SpinHamiltonian(nqbits, [Term(0.3, \"X\", [0]), Term(-0.4, \"ZY\", [0, 1])])\n",
    "print(f\"H = {H}\")\n"
   ]
  },
  {
   "cell_type": "code",
   "execution_count": 3,
   "metadata": {},
   "outputs": [
    {
     "name": "stdout",
     "output_type": "stream",
     "text": [
      "State |00> amplitude (0.7071067811865475+0j)\n",
      "State |11> amplitude (0.7071067811865475+0j)\n"
     ]
    }
   ],
   "source": [
    "from qat.lang import qrout, H, CNOT\n",
    "@qrout\n",
    "def bell_pair():\n",
    "    H(0)\n",
    "    CNOT(0, 1)\n",
    "\n",
    "result = bell_pair().run()\n",
    "\n",
    "for sample in result:\n",
    "    print(f\"State {sample.state} amplitude {sample.amplitude}\")"
   ]
  },
  {
   "cell_type": "code",
   "execution_count": 5,
   "metadata": {},
   "outputs": [],
   "source": [
    "import qat.qpus"
   ]
  },
  {
   "cell_type": "code",
   "execution_count": 6,
   "metadata": {},
   "outputs": [
    {
     "name": "stdout",
     "output_type": "stream",
     "text": [
      "\u001b[0;31mType:\u001b[0m            _QLMServiceModule\n",
      "\u001b[0;31mString form:\u001b[0m     <module 'qat.qpus' (['/Users/rajarshi/venvs/myqlm/lib/python3.11/site-packages/qat'])>\n",
      "\u001b[0;31mFile:\u001b[0m            ~/venvs/myqlm/lib/python3.11/site-packages/qat/modules/__init__.so\n",
      "\u001b[0;31mDocstring:\u001b[0m       <no docstring>\n",
      "\u001b[0;31mClass docstring:\u001b[0m Module containins services of the QLM / myQLM"
     ]
    }
   ],
   "source": [
    "qat.qpus?"
   ]
  },
  {
   "cell_type": "code",
   "execution_count": null,
   "metadata": {},
   "outputs": [],
   "source": []
  }
 ],
 "metadata": {
  "kernelspec": {
   "display_name": "Python 3 (ipykernel)",
   "language": "python",
   "name": "python3"
  },
  "language_info": {
   "codemirror_mode": {
    "name": "ipython",
    "version": 3
   },
   "file_extension": ".py",
   "mimetype": "text/x-python",
   "name": "python",
   "nbconvert_exporter": "python",
   "pygments_lexer": "ipython3",
   "version": "3.11.5"
  },
  "orig_nbformat": 4
 },
 "nbformat": 4,
 "nbformat_minor": 2
}
