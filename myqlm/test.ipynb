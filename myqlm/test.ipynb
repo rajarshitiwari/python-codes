{
 "cells": [
  {
   "cell_type": "code",
   "execution_count": 1,
   "metadata": {},
   "outputs": [
    {
     "ename": "ImportError",
     "evalue": "dlopen(/Users/rajarshi/miniforge3/envs/myqlm/lib/python3.9/site-packages/qat/__init__.so, 0x0002): Library not loaded: @rpath/lib/libpython3.9.dylib\n  Referenced from: <E8C3CBC8-276E-3534-8DFE-16C5457CA465> /Users/rajarshi/miniforge3/envs/myqlm/lib/python3.9/site-packages/qat/__init__.so\n  Reason: tried: '/Library/Frameworks/Python.framework/Versions/3.9/lib/libpython3.9.dylib' (no such file), '/System/Volumes/Preboot/Cryptexes/OS/Library/Frameworks/Python.framework/Versions/3.9/lib/libpython3.9.dylib' (no such file), '/opt/homebrew/opt/python@3.9/Frameworks/Python.framework/Versions/3.9/lib/libpython3.9.dylib' (no such file), '/System/Volumes/Preboot/Cryptexes/OS/opt/homebrew/opt/python@3.9/Frameworks/Python.framework/Versions/3.9/lib/libpython3.9.dylib' (no such file), '/usr/local/opt/python@3.9/Frameworks/Python.framework/Versions/3.9/lib/libpython3.9.dylib' (no such file), '/System/Volumes/Preboot/Cryptexes/OS/usr/local/opt/python@3.9/Frameworks/Python.framework/Versions/3.9/lib/libpython3.9.dylib' (no such file), '/Library/Frameworks/Python.framework/Versions/3.9/lib/libpython3.9.dylib' (no such file), '/System/Volumes/Preboot/Cryptexes/OS/Library/Frameworks/Python.framework/Versions/3.9/lib/libpython3.9.dylib' (no such file), '/opt/homebrew/opt/python@3.9/Frameworks/Python.framework/Versions/3.9/lib/libpython3.9.dylib' (no such file), '/System/Volumes/Preboot/Cryptexes/OS/opt/homebrew/opt/python@3.9/Frameworks/Python.framework/Versions/3.9/lib/libpython3.9.dylib' (no such file), '/usr/local/opt/python@3.9/Frameworks/Python.framework/Versions/3.9/lib/libpython3.9.dylib' (no such file), '/System/Volumes/Preboot/Cryptexes/OS/usr/local/opt/python@3.9/Frameworks/Python.framework/Versions/3.9/lib/libpython3.9.dylib' (no such file), '/Users/rajarshi/miniforge3/envs/myqlm/bin/../lib/lib/libpython3.9.dylib' (no such file), '/Users/rajarshi/miniforge3/envs/myqlm/bin/../lib/lib/libpython3.9.dylib' (no such file), '/System/Volumes/Preboot/Cryptexes/OS@rpath/lib/libpython3.9.dylib' (no such file), '/Library/Frameworks/Python.framework/Versions/3.9/lib/libpython3.9.dylib' (no such file), '/System/Volumes/Preboot/Cryptexes/OS/Library/Frameworks/Python.framework/Versions/3.9/lib/libpython3.9.dylib' (no such file), '/opt/homebrew/opt/python@3.9/Frameworks/Python.framework/Versions/3.9/lib/libpython3.9.dylib' (no such file), '/System/Volumes/Preboot/Cryptexes/OS/opt/homebrew/opt/python@3.9/Frameworks/Python.framework/Versions/3.9/lib/libpython3.9.dylib' (no such file), '/usr/local/opt/python@3.9/Frameworks/Python.framework/Versions/3.9/lib/libpython3.9.dylib' (no such file), '/System/Volumes/Preboot/Cryptexes/OS/usr/local/opt/python@3.9/Frameworks/Python.framework/Versions/3.9/lib/libpython3.9.dylib' (no such file), '/Library/Frameworks/Python.framework/Versions/3.9/lib/libpython3.9.dylib' (no such file), '/System/Volumes/Preboot/Cryptexes/OS/Library/Frameworks/Python.framework/Versions/3.9/lib/libpython3.9.dylib' (no such file), '/opt/homebrew/opt/python@3.9/Frameworks/Python.framework/Versions/3.9/lib/libpython3.9.dylib' (no such file), '/System/Volumes/Preboot/Cryptexes/OS/opt/homebrew/opt/python@3.9/Frameworks/Python.framework/Versions/3.9/lib/libpython3.9.dylib' (no such file), '/usr/local/opt/python@3.9/Frameworks/Python.framework/Versions/3.9/lib/libpython3.9.dylib' (no such file), '/System/Volumes/Preboot/Cryptexes/OS/usr/local/opt/python@3.9/Frameworks/Python.framework/Versions/3.9/lib/libpython3.9.dylib' (no such file), '/Users/rajarshi/miniforge3/envs/myqlm/bin/../lib/lib/libpython3.9.dylib' (no such file), '/Users/rajarshi/miniforge3/envs/myqlm/bin/../lib/lib/libpython3.9.dylib' (no such file), '/usr/local/lib/libpython3.9.dylib' (no such file), '/usr/lib/libpython3.9.dylib' (no such file, not in dyld cache)",
     "output_type": "error",
     "traceback": [
      "\u001b[0;31m---------------------------------------------------------------------------\u001b[0m",
      "\u001b[0;31mImportError\u001b[0m                               Traceback (most recent call last)",
      "Cell \u001b[0;32mIn[1], line 1\u001b[0m\n\u001b[0;32m----> 1\u001b[0m \u001b[39mfrom\u001b[39;00m \u001b[39mqat\u001b[39;00m\u001b[39m.\u001b[39;00m\u001b[39mlang\u001b[39;00m\u001b[39m.\u001b[39;00m\u001b[39mAQASM\u001b[39;00m \u001b[39mimport\u001b[39;00m Program, H, CNOT\n\u001b[1;32m      3\u001b[0m \u001b[39m# Create a Program\u001b[39;00m\n\u001b[1;32m      4\u001b[0m qprog \u001b[39m=\u001b[39m Program()\n",
      "\u001b[0;31mImportError\u001b[0m: dlopen(/Users/rajarshi/miniforge3/envs/myqlm/lib/python3.9/site-packages/qat/__init__.so, 0x0002): Library not loaded: @rpath/lib/libpython3.9.dylib\n  Referenced from: <E8C3CBC8-276E-3534-8DFE-16C5457CA465> /Users/rajarshi/miniforge3/envs/myqlm/lib/python3.9/site-packages/qat/__init__.so\n  Reason: tried: '/Library/Frameworks/Python.framework/Versions/3.9/lib/libpython3.9.dylib' (no such file), '/System/Volumes/Preboot/Cryptexes/OS/Library/Frameworks/Python.framework/Versions/3.9/lib/libpython3.9.dylib' (no such file), '/opt/homebrew/opt/python@3.9/Frameworks/Python.framework/Versions/3.9/lib/libpython3.9.dylib' (no such file), '/System/Volumes/Preboot/Cryptexes/OS/opt/homebrew/opt/python@3.9/Frameworks/Python.framework/Versions/3.9/lib/libpython3.9.dylib' (no such file), '/usr/local/opt/python@3.9/Frameworks/Python.framework/Versions/3.9/lib/libpython3.9.dylib' (no such file), '/System/Volumes/Preboot/Cryptexes/OS/usr/local/opt/python@3.9/Frameworks/Python.framework/Versions/3.9/lib/libpython3.9.dylib' (no such file), '/Library/Frameworks/Python.framework/Versions/3.9/lib/libpython3.9.dylib' (no such file), '/System/Volumes/Preboot/Cryptexes/OS/Library/Frameworks/Python.framework/Versions/3.9/lib/libpython3.9.dylib' (no such file), '/opt/homebrew/opt/python@3.9/Frameworks/Python.framework/Versions/3.9/lib/libpython3.9.dylib' (no such file), '/System/Volumes/Preboot/Cryptexes/OS/opt/homebrew/opt/python@3.9/Frameworks/Python.framework/Versions/3.9/lib/libpython3.9.dylib' (no such file), '/usr/local/opt/python@3.9/Frameworks/Python.framework/Versions/3.9/lib/libpython3.9.dylib' (no such file), '/System/Volumes/Preboot/Cryptexes/OS/usr/local/opt/python@3.9/Frameworks/Python.framework/Versions/3.9/lib/libpython3.9.dylib' (no such file), '/Users/rajarshi/miniforge3/envs/myqlm/bin/../lib/lib/libpython3.9.dylib' (no such file), '/Users/rajarshi/miniforge3/envs/myqlm/bin/../lib/lib/libpython3.9.dylib' (no such file), '/System/Volumes/Preboot/Cryptexes/OS@rpath/lib/libpython3.9.dylib' (no such file), '/Library/Frameworks/Python.framework/Versions/3.9/lib/libpython3.9.dylib' (no such file), '/System/Volumes/Preboot/Cryptexes/OS/Library/Frameworks/Python.framework/Versions/3.9/lib/libpython3.9.dylib' (no such file), '/opt/homebrew/opt/python@3.9/Frameworks/Python.framework/Versions/3.9/lib/libpython3.9.dylib' (no such file), '/System/Volumes/Preboot/Cryptexes/OS/opt/homebrew/opt/python@3.9/Frameworks/Python.framework/Versions/3.9/lib/libpython3.9.dylib' (no such file), '/usr/local/opt/python@3.9/Frameworks/Python.framework/Versions/3.9/lib/libpython3.9.dylib' (no such file), '/System/Volumes/Preboot/Cryptexes/OS/usr/local/opt/python@3.9/Frameworks/Python.framework/Versions/3.9/lib/libpython3.9.dylib' (no such file), '/Library/Frameworks/Python.framework/Versions/3.9/lib/libpython3.9.dylib' (no such file), '/System/Volumes/Preboot/Cryptexes/OS/Library/Frameworks/Python.framework/Versions/3.9/lib/libpython3.9.dylib' (no such file), '/opt/homebrew/opt/python@3.9/Frameworks/Python.framework/Versions/3.9/lib/libpython3.9.dylib' (no such file), '/System/Volumes/Preboot/Cryptexes/OS/opt/homebrew/opt/python@3.9/Frameworks/Python.framework/Versions/3.9/lib/libpython3.9.dylib' (no such file), '/usr/local/opt/python@3.9/Frameworks/Python.framework/Versions/3.9/lib/libpython3.9.dylib' (no such file), '/System/Volumes/Preboot/Cryptexes/OS/usr/local/opt/python@3.9/Frameworks/Python.framework/Versions/3.9/lib/libpython3.9.dylib' (no such file), '/Users/rajarshi/miniforge3/envs/myqlm/bin/../lib/lib/libpython3.9.dylib' (no such file), '/Users/rajarshi/miniforge3/envs/myqlm/bin/../lib/lib/libpython3.9.dylib' (no such file), '/usr/local/lib/libpython3.9.dylib' (no such file), '/usr/lib/libpython3.9.dylib' (no such file, not in dyld cache)"
     ]
    }
   ],
   "source": [
    "from qat.lang.AQASM import Program, H, CNOT\n",
    "\n",
    "# Create a Program\n",
    "qprog = Program()\n",
    "# Number of qbits\n",
    "nbqbits = 2\n",
    "# Allocate some qbits\n",
    "qbits = qprog.qalloc(nbqbits)\n",
    "\n",
    "# Apply some quantum Gates\n",
    "H(qbits[0])\n",
    "CNOT(qbits[0], qbits[1])\n",
    "\n",
    "# Export this program into a quantum circuit\n",
    "circuit = qprog.to_circ()\n",
    "\n",
    "# Import a Quantum Processor Unit Factory (the default one)\n",
    "from qat.qpus import get_default_qpu\n",
    "\n",
    "# Create a Quantum Processor Unit\n",
    "qpu = get_default_qpu()\n",
    "\n",
    "# Create a job\n",
    "job = circuit.to_job()\n",
    "\n",
    "# Submit the job to the QPU\n",
    "result = qpu.submit(job)\n",
    "\n",
    "# Iterate over the final state vector to get all final components\n",
    "for sample in result:\n",
    "    print(\"State %s amplitude %s\" % (sample.state, sample.amplitude))"
   ]
  },
  {
   "cell_type": "code",
   "execution_count": 3,
   "metadata": {},
   "outputs": [
    {
     "name": "stdout",
     "output_type": "stream",
     "text": [
      "\u001b[0;31mType:\u001b[0m        QRegister\n",
      "\u001b[0;31mString form:\u001b[0m QReg(q[0]..q[1])\n",
      "\u001b[0;31mLength:\u001b[0m      2\n",
      "\u001b[0;31mFile:\u001b[0m        ~/miniconda3/envs/qc/lib/python3.10/site-packages/qat/lang/AQASM/bits.so\n",
      "\u001b[0;31mDocstring:\u001b[0m  \n",
      "Class for registers of qbits. They should only be\n",
      "declared through the qalloc method of the Program class.\n",
      "Qbits inside a register can be accessed\n",
      "similarly to elements of an array (i.e using brackets and slices).\n"
     ]
    }
   ],
   "source": [
    "qbits?"
   ]
  },
  {
   "cell_type": "code",
   "execution_count": null,
   "metadata": {},
   "outputs": [],
   "source": []
  }
 ],
 "metadata": {
  "kernelspec": {
   "display_name": "qc",
   "language": "python",
   "name": "python3"
  },
  "language_info": {
   "codemirror_mode": {
    "name": "ipython",
    "version": 3
   },
   "file_extension": ".py",
   "mimetype": "text/x-python",
   "name": "python",
   "nbconvert_exporter": "python",
   "pygments_lexer": "ipython3",
   "version": "3.9.16"
  },
  "orig_nbformat": 4
 },
 "nbformat": 4,
 "nbformat_minor": 2
}
