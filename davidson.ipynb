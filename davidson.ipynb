{
 "cells": [
  {
   "cell_type": "code",
   "execution_count": 6,
   "metadata": {},
   "outputs": [
    {
     "name": "stdout",
     "output_type": "stream",
     "text": [
      "davidson =  [0.99994242 2.00017144 3.00007389 4.00013488 4.99993948 5.99999456\n",
      " 7.00005461 7.99977948 9.00000237 9.99997187] ; 0.9844651222229004 seconds\n",
      "numpy =  [0.99994241 2.00017143 3.00007388 4.00013487 4.99993947 5.99999455\n",
      " 7.0000546  7.99977946 9.00000235 9.99997183] ; 0.66520094871521 seconds\n",
      "3.702211337497374e-08\n"
     ]
    }
   ],
   "source": [
    "#!/bin/python\n",
    "#from __future__ import division\n",
    "#from __future__ import print_function\n",
    "import math\n",
    "import numpy as np\n",
    "import time\n",
    "\n",
    "''' Block Davidson, Joshua Goings (2013)\n",
    "\n",
    "    Block Davidson method for finding the first few\n",
    "\tlowest eigenvalues of a large, diagonally dominant,\n",
    "    sparse Hermitian matrix (e.g. Hamiltonian)\n",
    "'''\n",
    "\n",
    "n = 2400\t\t\t\t# Dimension of matrix\n",
    "tol = 1e-8\t\t\t\t# Convergence tolerance\n",
    "mmax = n//2\t\t\t\t# Maximum number of iterations\t\n",
    "\n",
    "''' Create sparse, diagonally dominant matrix A with \n",
    "\tdiagonal containing 1,2,3,...n. The eigenvalues\n",
    "    should be very close to these values. You can \n",
    "    change the sparsity. A smaller number for sparsity\n",
    "    increases the diagonal dominance. Larger values\n",
    "    (e.g. sparsity = 1) create a dense matrix\n",
    "'''\n",
    "\n",
    "sparsity = 0.0001\n",
    "A = np.zeros((n,n))\n",
    "for i in range(0,n):\n",
    "    A[i,i] = i + 1 \n",
    "A = A + sparsity*np.random.randn(n,n) \n",
    "A = (A.T + A)/2 \n",
    "\n",
    "\n",
    "k = 10\t\t\t\t\t# number of initial guess vectors \n",
    "eig = 10       \t\t\t# number of eignvalues to solve \n",
    "t = np.eye(n,k)\t\t\t# set of k unit vectors as guess\n",
    "V = np.zeros((n,n))\t\t# array of zeros to hold guess vec\n",
    "I = np.eye(n)\t\t\t# identity matrix same dimen as A\n",
    "\n",
    "# Begin block Davidson routine\n",
    "\n",
    "start_davidson = time.time()\n",
    "\n",
    "for m in range(k,mmax,k):\n",
    "    if m <= k:\n",
    "        for j in range(0,k):\n",
    "            V[:,j] = t[:,j]/np.linalg.norm(t[:,j])\n",
    "        theta_old = 1 \n",
    "    elif m > k:\n",
    "        theta_old = theta[:eig]\n",
    "    V[:,:m],R = np.linalg.qr(V[:,:m])\n",
    "    T = np.dot(V[:,:m].T,np.dot(A,V[:,:m]))\n",
    "    THETA,S = np.linalg.eig(T)\n",
    "    idx = THETA.argsort()\n",
    "    theta = THETA[idx]\n",
    "    s = S[:,idx]\n",
    "    for j in range(0,k):\n",
    "        w = np.dot((A - theta[j]*I),np.dot(V[:,:m],s[:,j])) \n",
    "        q = w/(theta[j]-A[j,j])\n",
    "        V[:,(m+j)] = q\n",
    "    norm = np.linalg.norm(theta[:eig] - theta_old)\n",
    "    if norm < tol:\n",
    "        break\n",
    "\n",
    "end_davidson = time.time()\n",
    "\n",
    "# End of block Davidson. Print results.\n",
    "\n",
    "print(\"davidson = \", theta[:eig],\";\",\n",
    "    end_davidson - start_davidson, \"seconds\")\n",
    "\n",
    "# Begin Numpy diagonalization of A\n",
    "\n",
    "start_numpy = time.time()\n",
    "\n",
    "E,Vec = np.linalg.eigh(A)\n",
    "E = np.sort(E)\n",
    "\n",
    "end_numpy = time.time()\n",
    "\n",
    "# End of Numpy diagonalization. Print results.\n",
    "\n",
    "print(\"numpy = \", E[:eig],\";\",\n",
    "     end_numpy - start_numpy, \"seconds\") \n",
    "\n",
    "print(np.abs(theta[:eig] - E[:eig]).max())"
   ]
  },
  {
   "cell_type": "code",
   "execution_count": null,
   "metadata": {},
   "outputs": [],
   "source": []
  },
  {
   "cell_type": "code",
   "execution_count": null,
   "metadata": {},
   "outputs": [],
   "source": []
  }
 ],
 "metadata": {
  "kernelspec": {
   "display_name": "Python 3.9.13 ('base')",
   "language": "python",
   "name": "python3"
  },
  "language_info": {
   "codemirror_mode": {
    "name": "ipython",
    "version": 3
   },
   "file_extension": ".py",
   "mimetype": "text/x-python",
   "name": "python",
   "nbconvert_exporter": "python",
   "pygments_lexer": "ipython3",
   "version": "3.9.13"
  },
  "orig_nbformat": 4,
  "vscode": {
   "interpreter": {
    "hash": "a6593991dda8697d734602f693f649d09256469db64b43c0a9c1bd2f44328a8a"
   }
  }
 },
 "nbformat": 4,
 "nbformat_minor": 2
}
