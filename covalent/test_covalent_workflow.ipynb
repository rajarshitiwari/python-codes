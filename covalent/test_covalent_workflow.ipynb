{
 "cells": [
  {
   "attachments": {},
   "cell_type": "markdown",
   "metadata": {},
   "source": [
    "Needed to reinstall psutil==5.9.2 as ```pip install covalent``` probably updated it to incompatible version."
   ]
  },
  {
   "cell_type": "code",
   "execution_count": 3,
   "metadata": {},
   "outputs": [],
   "source": [
    "import numpy as np\n",
    "import covalent as ct\n",
    "import covalent_ui"
   ]
  },
  {
   "cell_type": "code",
   "execution_count": 4,
   "metadata": {},
   "outputs": [
    {
     "name": "stdout",
     "output_type": "stream",
     "text": [
      "{'sdk': {'config_file': '/Users/rajarshi/.config/covalent/covalent.conf', 'log_dir': '/Users/rajarshi/.cache/covalent', 'log_level': 'warning', 'enable_logging': 'true', 'executor_dir': '/Users/rajarshi/.config/covalent/executor_plugins', 'no_cluster': 'false', 'exhaustive_postprocess': 'true', 'dispatch_cache_dir': '/Users/rajarshi/.cache/covalent/dispatches', 'task_packing': 'false', 'multistage_dispatch': 'true', 'results_dir': '/Users/rajarshi/.cache/covalent/results'}, 'dispatcher': {'address': 'localhost', 'port': 48008, 'cache_dir': '/Users/rajarshi/.cache/covalent', 'results_dir': '/Users/rajarshi/.local/share/covalent/data', 'log_dir': '/Users/rajarshi/.cache/covalent', 'db_path': '/Users/rajarshi/.local/share/covalent/dispatcher_db.sqlite', 'qelectron_db_path': '/Users/rajarshi/.local/share/covalent/qelectron_db', 'heartbeat_interval': 5, 'heartbeat_file': '/Users/rajarshi/.cache/covalent/heartbeat', 'use_async_dispatcher': 'true', 'data_uri_filter_policy': 'http', 'asset_cache_size': 32}, 'dask': {'cache_dir': '/Users/rajarshi/.cache/covalent', 'log_dir': '/Users/rajarshi/.cache/covalent', 'mem_per_worker': 'auto', 'threads_per_worker': 1, 'num_workers': 10, 'scheduler_address': 'tcp://127.0.0.1:59880', 'dashboard_link': 'http://127.0.0.1:8787/status', 'process_info': \"<DaskCluster name='LocalDaskCluster' parent=42539 started>\", 'pid': 42576, 'admin_host': '127.0.0.1', 'admin_port': 59872}, 'workflow_data': {'storage_type': 'local', 'base_dir': '/Users/rajarshi/.local/share/covalent/workflow_data'}, 'user_interface': {'address': 'localhost', 'port': 48008, 'dev_port': 49009, 'log_dir': '/Users/rajarshi/.cache/covalent'}, 'executors': {'local': {'log_stdout': 'stdout.log', 'log_stderr': 'stderr.log', 'cache_dir': '/Users/rajarshi/.cache/covalent', 'workdir': '/Users/rajarshi/.cache/covalent/workdir', 'create_unique_workdir': False}, 'remote_executor': {'poll_freq': 15, 'remote_cache': '.cache/covalent', 'credentials_file': '', 'covalent_version': ''}, 'dask': {'log_stdout': 'stdout.log', 'log_stderr': 'stderr.log', 'cache_dir': '/Users/rajarshi/.cache/covalent', 'workdir': '/Users/rajarshi/.cache/covalent/workdir', 'create_unique_workdir': False}, 'slurm': {'username': 'u101223', 'address': 'login.lxp.lu', 'ssh_key_file': '~/.ssh/id_ed25519', 'remote_workdir': '/project/home/p200313/jlflow', 'port': 8822, 'create_unique_workdir': False, 'conda_env': 'wf', 'prerun_commands': [], 'postrun_commands': [], 'use_srun': True, 'srun_append': '', 'bashrc_path': '$HOME/.bashrc', 'slurm_path': '/usr/bin', 'poll_freq': 5, 'cleanup': True, 'cache_dir': '/Users/rajarshi/.config/covalent/executor_plugins/covalent-slurm-cache', 'ignore_versions': False, 'variables': {}, 'options': {'parsable': '', 'nodes': 1, 'ntasks': 128, 'cpus-per-task': 1, 'partition': 'cpu', 'qos': 'default', 'account': 'p200313', 'time': '00:03:00'}, 'srun_options': {'cpu_bind': 'cores'}, 'cert_file': None}}}\n"
     ]
    }
   ],
   "source": [
    "cfg = ct.get_config()\n",
    "print(cfg)"
   ]
  },
  {
   "cell_type": "code",
   "execution_count": 4,
   "metadata": {},
   "outputs": [],
   "source": [
    "local_cpu = ct.executor.LocalExecutor(workdir='./')\n",
    "# remote_cpu = ct.executor.QCluster\n",
    "ct.executor"
   ]
  },
  {
   "cell_type": "code",
   "execution_count": 5,
   "metadata": {},
   "outputs": [],
   "source": [
    "# @ct.electron(executor=batch_executor)\n",
    "def task_local(n=1000):\n",
    "    mat = np.random.random((n, n))\n",
    "    mat = mat + mat.T\n",
    "    mat *= 0.5\n",
    "    e = np.linalg.eigvalsh(mat)\n",
    "    return e\n",
    "\n",
    "@ct.electron #(executor=\"slurm\")\n",
    "def task_slurm(n=1000):\n",
    "    return task_local(n)\n",
    "\n",
    "@ct.lattice\n",
    "def gather_eigs(num=128, n=1000):\n",
    "    e = np.zeros((num, n))\n",
    "    for i in range(num):\n",
    "        e[i] = task_slurm(n)\n",
    "    return e"
   ]
  },
  {
   "cell_type": "code",
   "execution_count": 10,
   "metadata": {},
   "outputs": [],
   "source": [
    "run_id = ct.dispatch(gather_eigs)(num=12, n=2000)\n",
    "output = ct.get_result(run_id)\n",
    "#print(e.min(), e.max())"
   ]
  },
  {
   "cell_type": "code",
   "execution_count": 27,
   "metadata": {},
   "outputs": [
    {
     "name": "stdout",
     "output_type": "stream",
     "text": [
      "\u001b[0;31mSignature:\u001b[0m \u001b[0mct\u001b[0m\u001b[0;34m.\u001b[0m\u001b[0mget_context\u001b[0m\u001b[0;34m(\u001b[0m\u001b[0;34m)\u001b[0m\u001b[0;34m\u001b[0m\u001b[0;34m\u001b[0m\u001b[0m\n",
      "\u001b[0;31mDocstring:\u001b[0m <no docstring>\n",
      "\u001b[0;31mFile:\u001b[0m      ~/miniforge/envs/wf/lib/python3.10/site-packages/covalent/executor/utils/context.py\n",
      "\u001b[0;31mType:\u001b[0m      function"
     ]
    }
   ],
   "source": []
  },
  {
   "cell_type": "code",
   "execution_count": 19,
   "metadata": {},
   "outputs": [
    {
     "data": {
      "text/plain": [
       "(12, 2000)"
      ]
     },
     "execution_count": 19,
     "metadata": {},
     "output_type": "execute_result"
    }
   ],
   "source": [
    "result.result.shape"
   ]
  },
  {
   "cell_type": "code",
   "execution_count": 29,
   "metadata": {},
   "outputs": [
    {
     "data": {
      "text/plain": [
       "'72923e9b-cc93-4581-855d-e1d025834462'"
      ]
     },
     "execution_count": 29,
     "metadata": {},
     "output_type": "execute_result"
    }
   ],
   "source": [
    "run_id"
   ]
  },
  {
   "cell_type": "code",
   "execution_count": null,
   "metadata": {},
   "outputs": [],
   "source": []
  }
 ],
 "metadata": {
  "kernelspec": {
   "display_name": "Python 3",
   "language": "python",
   "name": "python3"
  },
  "language_info": {
   "codemirror_mode": {
    "name": "ipython",
    "version": 3
   },
   "file_extension": ".py",
   "mimetype": "text/x-python",
   "name": "python",
   "nbconvert_exporter": "python",
   "pygments_lexer": "ipython3",
   "version": "3.10.14"
  },
  "orig_nbformat": 4
 },
 "nbformat": 4,
 "nbformat_minor": 2
}
