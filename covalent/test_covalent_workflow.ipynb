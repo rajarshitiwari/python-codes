{
 "cells": [
  {
   "attachments": {},
   "cell_type": "markdown",
   "metadata": {},
   "source": [
    "Needed to reinstall psutil==5.9.2 as ```pip install covalent``` probably updated it to incompatible version."
   ]
  },
  {
   "cell_type": "code",
   "execution_count": 1,
   "metadata": {},
   "outputs": [],
   "source": [
    "import numpy as np\n",
    "import covalent as ct\n",
    "import covalent_ui"
   ]
  },
  {
   "cell_type": "code",
   "execution_count": 4,
   "metadata": {},
   "outputs": [],
   "source": [
    "@ct.electron\n",
    "def task(x):\n",
    "    return x + 1\n",
    "\n",
    "@ct.electron\n",
    "def task1(x):\n",
    "    return x + 1\n",
    "\n",
    "@ct.electron\n",
    "def task2(x):\n",
    "    return x * 2\n",
    "\n",
    "@ct.lattice\n",
    "def workflow(x):\n",
    "    y = task1(x)\n",
    "    z = task2(y)\n",
    "    return z\n"
   ]
  },
  {
   "cell_type": "code",
   "execution_count": 5,
   "metadata": {},
   "outputs": [
    {
     "ename": "AttributeError",
     "evalue": "module 'covalent' has no attribute 'executors'",
     "output_type": "error",
     "traceback": [
      "\u001b[0;31m---------------------------------------------------------------------------\u001b[0m",
      "\u001b[0;31mAttributeError\u001b[0m                            Traceback (most recent call last)",
      "Cell \u001b[0;32mIn[5], line 2\u001b[0m\n\u001b[1;32m      1\u001b[0m \u001b[39m# to run electrons on AWSBatch\u001b[39;00m\n\u001b[0;32m----> 2\u001b[0m batch_executor \u001b[39m=\u001b[39m ct\u001b[39m.\u001b[39;49mexecutors\u001b[39m.\u001b[39mAWSBatchExecutor(\n\u001b[1;32m      3\u001b[0m     batch_queue \u001b[39m=\u001b[39m \u001b[39m\"\u001b[39m\u001b[39mtest-queue\u001b[39m\u001b[39m\"\u001b[39m,\n\u001b[1;32m      4\u001b[0m     vcpu \u001b[39m=\u001b[39m \u001b[39m8\u001b[39m,\n\u001b[1;32m      5\u001b[0m     memory \u001b[39m=\u001b[39m \u001b[39m32\u001b[39m,\n\u001b[1;32m      6\u001b[0m     num_gpus \u001b[39m=\u001b[39m \u001b[39m1\u001b[39m,\n\u001b[1;32m      7\u001b[0m     time_limit \u001b[39m=\u001b[39m \u001b[39m36000\u001b[39m \n\u001b[1;32m      8\u001b[0m )\n\u001b[1;32m     10\u001b[0m \u001b[39m@ct\u001b[39m\u001b[39m.\u001b[39melectron(executor\u001b[39m=\u001b[39mbatch_executor)\n\u001b[1;32m     11\u001b[0m \u001b[39mdef\u001b[39;00m \u001b[39mtask\u001b[39m(x):\n\u001b[1;32m     12\u001b[0m     \u001b[39mreturn\u001b[39;00m x \u001b[39m+\u001b[39m \u001b[39m1\u001b[39m\n",
      "\u001b[0;31mAttributeError\u001b[0m: module 'covalent' has no attribute 'executors'"
     ]
    }
   ],
   "source": [
    "# to run electrons on AWSBatch\n",
    "batch_executor = ct.executors.AWSBatchExecutor(\n",
    "    batch_queue = \"test-queue\",\n",
    "    vcpu = 8,\n",
    "    memory = 32,\n",
    "    num_gpus = 1,\n",
    "    time_limit = 36000 \n",
    ")\n",
    "\n",
    "@ct.electron(executor=batch_executor)\n",
    "def task(x):\n",
    "    return x + 1"
   ]
  }
 ],
 "metadata": {
  "kernelspec": {
   "display_name": "wfl",
   "language": "python",
   "name": "python3"
  },
  "language_info": {
   "codemirror_mode": {
    "name": "ipython",
    "version": 3
   },
   "file_extension": ".py",
   "mimetype": "text/x-python",
   "name": "python",
   "nbconvert_exporter": "python",
   "pygments_lexer": "ipython3",
   "version": "3.10.11"
  },
  "orig_nbformat": 4
 },
 "nbformat": 4,
 "nbformat_minor": 2
}
